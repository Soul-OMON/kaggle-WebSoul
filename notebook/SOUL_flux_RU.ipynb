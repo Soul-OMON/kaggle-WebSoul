{
  "cells": [
    {
      "cell_type": "code",
      "execution_count": null,
      "metadata": {
        "cellView": "form",
        "id": "8N4HG-KOCVxE"
      },
      "outputs": [],
      "source": [
        "# @title Установка Среды.\n",
        "from pathlib import Path\n",
        "import os\n",
        "\n",
        "lang, branch = 'ru', 'main'  # Устанавливаем язык 'ru' и ветку 'main'\n",
        "scripts_dir = Path.home() / 'SOUL' / 'scripts'  # Создает путь: /home/user/SOUL/scripts\n",
        "out = scripts_dir / lang / f'setup-{lang}.py'  # Создает путь: /home/user/SOUL/scripts/ru/setup-ru.py\n",
        "\n",
        "os.makedirs(out.parent, exist_ok=True)  # Создает директорию /home/user/SOUL/scripts/ru/\n",
        "!curl -sLo {out} https://raw.githubusercontent.com/Soul-OMON/kaggle-WebSoul/{branch}/scripts/{lang}/setup-{lang}.py\n",
        "\n",
        "%run $out --lang=$lang --branch=$branch"
      ]
    },
    {
      "cell_type": "markdown",
      "metadata": {
        "id": "u3ItiVM_ti1w"
      },
      "source": [
        "---\n",
        "## 1. Виджеты 🔽"
      ]
    },
    {
      "cell_type": "code",
      "execution_count": null,
      "metadata": {
        "id": "wA4aTRootj2j"
      },
      "outputs": [],
      "source": [
        "# Выбор моделей, vae, control-net и прочее.\n",
        "%run $scripts_dir/$lang/widgets-{lang}.py"
      ]
    },
    {
      "cell_type": "markdown",
      "metadata": {
        "id": "7AHNls08xcdg"
      },
      "source": [
        "## 2. Загрузка 🔽"
      ]
    },
    {
      "cell_type": "code",
      "execution_count": null,
      "metadata": {
        "id": "1Ev_2hDOxdUs"
      },
      "outputs": [],
      "source": [
        "# Загрузка библиотек, репо, моделей и прочего.\n",
        "%run $scripts_dir/$lang/downloading-{lang}.py"
      ]
    },
    {
      "cell_type": "markdown",
      "metadata": {
        "id": "E7pT9VX93OzP"
      },
      "source": [
        "## 3. Запуск 🔽"
      ]
    },
    {
      "cell_type": "code",
      "execution_count": null,
      "metadata": {
        "id": "JKBfIlxi3Rzt"
      },
      "outputs": [],
      "source": [
        "# Запустить WebUI.\n",
        "%run $scripts_dir/launch.py"
      ]
    },
    {
      "cell_type": "markdown",
      "metadata": {
        "id": "eWU2gAB-3oyP"
      },
      "source": [
        "---\n",
        "# Утилиты"
      ]
    },
    {
      "cell_type": "code",
      "execution_count": null,
      "metadata": {
        "id": "72s_GVIa3pyS"
      },
      "outputs": [],
      "source": [
        "# Запустить AutoCleaner.\n",
        "%run $scripts_dir/auto-cleaner.py"
      ]
    }
  ],
  "metadata": {
    "accelerator": "GPU",
    "colab": {
      "gpuType": "T4",
      "provenance": []
    },
    "kernelspec": {
      "display_name": "Python 3",
      "name": "python3"
    },
    "language_info": {
      "name": "python"
    }
  },
  "nbformat": 4,
  "nbformat_minor": 0
}
